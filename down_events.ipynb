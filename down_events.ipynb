{
 "cells": [
  {
   "cell_type": "markdown",
   "metadata": {},
   "source": [
    "### <span style=\"color: #3A6D8C;\">Download records according with events.xlsx</span>"
   ]
  },
  {
   "cell_type": "code",
   "execution_count": 1,
   "metadata": {},
   "outputs": [],
   "source": [
    "import pandas as pd\n",
    "\n",
    "from pathlib import Path\n",
    "from obspy import UTCDateTime\n",
    "from obspy.clients.fdsn import Client\n",
    "from obspy.clients.fdsn.mass_downloader import RectangularDomain, Restrictions, MassDownloader"
   ]
  },
  {
   "cell_type": "code",
   "execution_count": 2,
   "metadata": {},
   "outputs": [],
   "source": [
    "excel_file = './events/events.xlsx'\n",
    "\n",
    "df = pd.read_excel(excel_file, sheet_name='info', index_col=None)\n",
    "\n",
    "# chose 2013-07-20 event as a demo\n",
    "event_num = 7\n",
    "\n",
    "# Origin time \n",
    "origin_time = UTCDateTime(df.loc[event_num, 'Origin Time (UTC)'])\n",
    "event_data = '{0:04d}-{1:02d}-{2:02d}'.format(origin_time.year, origin_time.month,origin_time.day)\n",
    "folder_output = Path(excel_file).absolute().parent.joinpath(event_data)\n",
    "\n",
    "if not folder_output.exists():\n",
    "    folder_output.mkdir(parents=True)\n",
    "\n",
    "# define search geography extent\n",
    "minlatitude = 42.9\n",
    "maxlatitude = 53.7\n",
    "minlongitude = 6.4\n",
    "maxlongitude = 7.3\n",
    "\n",
    "#seconds to request before and after the given date and time\n",
    "second_before = 150\n",
    "second_after = 300\n",
    "\n",
    "network = 'NL'\n",
    "providers = \"http://rdsa.knmi.nl\"\n",
    "# requested channels\n",
    "channel_priorities = [\"HG[ZNE12]\"]"
   ]
  },
  {
   "cell_type": "markdown",
   "metadata": {},
   "source": [
    "<div style=\"color:#88C273; padding: 10px; font-size: 20px\"> \n",
    "For particular event, firstly setting geographical location,\n",
    "then preprocessing condition are needed where MassDownloader plays a foundmental role. \n",
    "</div>"
   ]
  },
  {
   "cell_type": "code",
   "execution_count": null,
   "metadata": {},
   "outputs": [],
   "source": [
    "domain = RectangularDomain(minlatitude=minlatitude,\n",
    "                            maxlatitude=maxlatitude,\n",
    "                            minlongitude=minlongitude,\n",
    "                            maxlongitude=maxlongitude,)\n",
    "restrictions = Restrictions(\n",
    "         # Get data from 5 minutes before the event to one hour after the\n",
    "         # event.\n",
    "         starttime=UTCDateTime(2012, 1, 1),\n",
    "         endtime=UTCDateTime(2012, 5, 2),\n",
    "         # You might not want to deal with gaps in the data.\n",
    "         reject_channels_with_gaps=True,\n",
    "         # And you might only want waveforms that have data for at least\n",
    "         # 95 % of the requested time span.\n",
    "         minimum_length=0.95,\n",
    "         # No two stations should be closer than 10 km to each other.\n",
    "         minimum_interstation_distance_in_m=10E3,\n",
    "         # Only HH or BH channels. If a station has HH channels,\n",
    "         # those will be downloaded, otherwise the BH. Nothing will be\n",
    "         # downloaded if it has neither.\n",
    "         channel_priorities=[\"HH[ZNE12]\", \"BH[ZNE]\"],\n",
    "         # Location codes are arbitrary and there is no rule as to which\n",
    "         # location is best.\n",
    "         location_priorities=[\"\", \"00\", \"10\"],\n",
    "    )\n",
    "# client = Client('KNMI')\n",
    "mdl = MassDownloader(providers=['KNMI','IRIS'])\n",
    "mdl.download(domain=domain,\n",
    "             restrictions=restrictions,\n",
    "             mseed_storage='./',\n",
    "             stationxml_storage='./',\n",
    "             )"
   ]
  },
  {
   "cell_type": "markdown",
   "metadata": {},
   "source": [
    "<span style=\"color:#B03052; font-size:20px\"> For noisy data, there are some differences in the parameter inputs"
   ]
  },
  {
   "cell_type": "code",
   "execution_count": null,
   "metadata": {},
   "outputs": [],
   "source": []
  }
 ],
 "metadata": {
  "kernelspec": {
   "display_name": "masw",
   "language": "python",
   "name": "python3"
  },
  "language_info": {
   "codemirror_mode": {
    "name": "ipython",
    "version": 3
   },
   "file_extension": ".py",
   "mimetype": "text/x-python",
   "name": "python",
   "nbconvert_exporter": "python",
   "pygments_lexer": "ipython3",
   "version": "3.11.10"
  }
 },
 "nbformat": 4,
 "nbformat_minor": 2
}
