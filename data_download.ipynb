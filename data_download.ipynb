{
 "cells": [
  {
   "cell_type": "markdown",
   "metadata": {},
   "source": [
    "## <span style=\"color:#3A6D8C;\">  Download seismic data"
   ]
  },
  {
   "cell_type": "markdown",
   "metadata": {},
   "source": [
    "#### Wavefroms type: \n",
    "- Record: miniseed or other type; \n",
    "- station information: stationXML or txt;\n",
    "- Event information: quakeml or txt\n",
    "---\n",
    "#### FDSN rountine web service allow you access any station network data, like iris.\n",
    "\n",
    "#### orther web service you can use like client.iris or client.earthmorm***\n"
   ]
  },
  {
   "cell_type": "code",
   "execution_count": 1,
   "metadata": {},
   "outputs": [],
   "source": [
    "import numpy as np\n",
    "import matplotlib.pyplot as plt\n",
    "import pandas as pd\n",
    "import cartopy.crs as ccrs\n",
    "\n",
    "from pathlib import PurePath,Path\n",
    "from obspy import read, UTCDateTime\n",
    "from obspy.clients.fdsn import Client\n",
    "from obspy.clients.fdsn.client import FDSNNoDataException"
   ]
  },
  {
   "cell_type": "code",
   "execution_count": 2,
   "metadata": {},
   "outputs": [],
   "source": [
    "# check path\n",
    "client = Client('iris')\n",
    "\n",
    "# assign data information\n",
    "start = UTCDateTime(\"2022-01-01T00:00:00\")\n",
    "end = UTCDateTime(\"2022-01-03T00:00:00\")\n",
    "network = \"IU\"\n",
    "station = \"KIP\"\n",
    "location = \"00\"\n",
    "channel = \"LHZ\" # B:Broadband,H: high quality, L: long period,S:short period, Z: vertical component\n",
    "\n",
    "# get station inventory data\n",
    "inv = client.get_stations(\n",
    "    starttime = start,\n",
    "    endtime = end,\n",
    "    network = \"IU\",\n",
    "    station = station,\n",
    "    location = location, \n",
    "    channel = channel,\n",
    ")\n",
    "\n",
    "# save data as daily section\n",
    "data_list = pd.date_range(start.datetime, end.datetime,freq='D')# unit spacing according by day\n",
    "\n",
    "# define directionary \n",
    "cwd_file = Path().cwd()\n",
    "for day in data_list:\n",
    "    str_day = str(day).split(' ')[0]\n",
    "    filename = f\"{network}-{station}-{location}-{channel}-{str_day}\"\n",
    "    \n",
    "    # check exist\n",
    "    if any(cwd_file.glob(filename + '.sac')):\n",
    "        continue;\n",
    "    else:\n",
    "        try:\n",
    "            st = client.get_waveforms(\n",
    "                network=network,\n",
    "                station=station,\n",
    "                location=location,\n",
    "                channel=channel,\n",
    "                starttime=UTCDateTime(day),\n",
    "                endtime=UTCDateTime(day) + 86400, # Only one day's data is taken at a time\n",
    "            )\n",
    "\n",
    "            # preprocessing\n",
    "            pre_filt = (0.005, 0.006, 0.5,0.8)\n",
    "            tr = st[0].copy()\n",
    "            tr.detrend('demean')\n",
    "            tr.detrend('linear')\n",
    "            tr.taper(0.01)\n",
    "            tr.remove_response(inventory = inv,output=\"VEL\", water_level=60, pre_filt=pre_filt)\n",
    "            tr.write(filename + '.sac', format=\"SAC\")\n",
    "        except FDSNNoDataException:\n",
    "            print('No waveform in ' + filename)\n",
    "            continue;\n",
    "        \n"
   ]
  },
  {
   "cell_type": "code",
   "execution_count": 14,
   "metadata": {},
   "outputs": [],
   "source": [
    "inv.plot(projection='global',\n",
    "         resolution='c',\n",
    "         color=\"red\",\n",
    "         label=False,)\n",
    "plt.show()"
   ]
  },
  {
   "cell_type": "markdown",
   "metadata": {},
   "source": [
    "## <span style=\"color:#3A6D8C;\"> Station distribution from IU"
   ]
  },
  {
   "cell_type": "code",
   "execution_count": null,
   "metadata": {},
   "outputs": [],
   "source": [
    "client = Client('IRIS')\n",
    "starttime = UTCDateTime(\"2018-07-29T00:00:00\")\n",
    "endtime = UTCDateTime(\"2018-08-02T00:00:00\")\n",
    "network = \"IU\"\n",
    "# station = \"KIP\"\n",
    "location = \"00\"\n",
    "channel = \"LHZ\"\n",
    "inv = client.get_stations(\n",
    "    starttime=starttime,\n",
    "    endtime=endtime,\n",
    "    network=network,\n",
    "    station=\"*\",\n",
    "    location=location, \n",
    "    channel=channel,\n",
    "    level='response',\n",
    ")\n",
    "\n",
    "inv.plot(projection='global',\n",
    "         resolution='#00758f',\n",
    "         color=\"red\",\n",
    "         label=False,)\n",
    "plt.show()"
   ]
  }
 ],
 "metadata": {
  "kernelspec": {
   "display_name": "masw",
   "language": "python",
   "name": "python3"
  },
  "language_info": {
   "codemirror_mode": {
    "name": "ipython",
    "version": 3
   },
   "file_extension": ".py",
   "mimetype": "text/x-python",
   "name": "python",
   "nbconvert_exporter": "python",
   "pygments_lexer": "ipython3",
   "version": "3.9.18"
  }
 },
 "nbformat": 4,
 "nbformat_minor": 2
}
